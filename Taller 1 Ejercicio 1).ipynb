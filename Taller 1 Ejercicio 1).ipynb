{
 "cells": [
  {
   "cell_type": "markdown",
   "metadata": {
    "hideCode": false,
    "hidePrompt": false
   },
   "source": [
    "# Librerias\n",
    "\n"
   ]
  },
  {
   "cell_type": "code",
   "execution_count": 275,
   "metadata": {
    "hideCode": false,
    "hideOutput": false,
    "hidePrompt": true,
    "slideshow": {
     "slide_type": "skip"
    }
   },
   "outputs": [
    {
     "data": {
      "text/html": [
       "<link rel=\"stylesheet\" type=\"text/css\" href=\"Texto.css\" /><link rel=\"stylesheet\" type=\"text/css\" href=\"Texto.css\" /><link rel=\"stylesheet\" href=\"https://cdnjs.cloudflare.com/ajax/libs/animate.css/3.7.2/animate.min.css\">"
      ],
      "text/plain": [
       "<IPython.core.display.HTML object>"
      ]
     },
     "metadata": {},
     "output_type": "display_data"
    }
   ],
   "source": [
    "from IPython.core.display import display, HTML\n",
    "display(HTML('<link rel=\"stylesheet\" type=\"text/css\" href=\"Texto.css\" />'\n",
    "            '<link rel=\"stylesheet\" type=\"text/css\" href=\"Texto.css\" />'\n",
    "            '<link rel=\"stylesheet\" href=\"https://cdnjs.cloudflare.com/ajax/libs/animate.css/3.7.2/animate.min.css\">'))\n",
    "\n",
    "#             '<link href=\"cambios.css\" rel=\"stylesheet\" type=\"text/css\">'\n",
    "from sympy import init_session\n",
    "init_printing()\n",
    "from sympy import *\n",
    "from IPython.core.display import display, Latex\n",
    "import html\n",
    "import sympy\n",
    "from sympy import symbols\n"
   ]
  },
  {
   "cell_type": "markdown",
   "metadata": {
    "hideCode": true,
    "hidePrompt": true
   },
   "source": [
    "# Variables"
   ]
  },
  {
   "cell_type": "code",
   "execution_count": 154,
   "metadata": {
    "hideCode": true,
    "hidePrompt": true,
    "slideshow": {
     "slide_type": "skip"
    }
   },
   "outputs": [],
   "source": [
    "Y, C,I_b,G_b,beta_0,beta_1, T, alf_0,alf_1 = symbols(r'Y C \\overline{I} \\overline{G}' \n",
    "                              r' \\beta_{0} \\beta_{1} T '\n",
    "                              r' \\alpha_{0} \\alpha_{1}  ', real=True ,positivo=True)\n",
    "\n",
    "md_up, yy_o, yy_1, r , ms_up=symbols(r' M^{d} \\gamma_{0} \\gamma_{1} r M^{s}')\n",
    "\n",
    "eq1=Eq(Y, C+I_b+G_b)\n",
    "eq2=Eq(C, beta_0+beta_1*(Y-T))\n",
    "eq3=Eq(T, alf_0+alf_1*Y)\n",
    "eq4=Eq(md_up, yy_o*Y-yy_1*r)\n",
    "eq5=Eq(ms_up, md_up)\n",
    "\n",
    "eq11 = \" & {}\".format(latex(eq1), )\n",
    "eq22 = \" & {}\".format(latex(eq2), )\n",
    "eq33 = \" & {}\".format(latex(eq3), )\n",
    "eq44 = \" & {}\".format(latex(eq4), )\n",
    "eq55 = \" & {}\".format(latex(eq5), )"
   ]
  },
  {
   "cell_type": "markdown",
   "metadata": {
    "hideCode": true,
    "hidePrompt": true
   },
   "source": [
    "# Problema"
   ]
  },
  {
   "cell_type": "code",
   "execution_count": 149,
   "metadata": {
    "hideCode": true,
    "hidePrompt": true,
    "slideshow": {
     "slide_type": "slide"
    }
   },
   "outputs": [
    {
     "data": {
      "text/html": [
       "\n",
       "              <center>\n",
       "              <div class=\"subtitulo1\"><u><font size=\"5\">Ecuaciones del Mercado de Bienes</u> </div>\n",
       "              <span> </span>\n",
       "                 \n",
       "              <img src=\"http://latex.codecogs.com/svg.latex?  & - C + Y = \\overline{G} + \\overline{I}\" border=\"0\"  width=\"200\" height=\"200\" />\n",
       "              <img src=\"http://latex.codecogs.com/svg.latex?  & C + T \\beta_{1} - Y \\beta_{1} = \\beta_{0}\" border=\"0\"    width=\"200\" height=\"200\" />\n",
       "              <img src=\"http://latex.codecogs.com/svg.latex?  & T - Y \\alpha_{1} = \\alpha_{0}\" border=\"0\"    width=\"200\" height=\"200\" />\n",
       "              <br>\n",
       "              <div class=\"subtitulo1\"><u><font size=\"5\">Ecuaciones del Mercado de dinero</u> </div>\n",
       "             <span> </span>\n",
       "              <img src=\"http://latex.codecogs.com/svg.latex?  & Y \\gamma_{0} - \\gamma_{1} r = M^{s}\" border=\"0\"   width=\"200\" height=\"200\" />\n",
       "              <img src=\"http://latex.codecogs.com/svg.latex?  & M^{s} = M^{d}\" border=\"0\"   width=\"200\" height=\"200\" />\n",
       "              \n",
       "              \n",
       "              </center>"
      ],
      "text/plain": [
       "<IPython.core.display.HTML object>"
      ]
     },
     "metadata": {},
     "output_type": "display_data"
    }
   ],
   "source": [
    "al=200\n",
    "an=200\n",
    "from IPython.core.display import display, HTML\n",
    "display(HTML((f\"\"\"\n",
    "              <center>\n",
    "              <div class=\"subtitulo1\"><u><font size=\"5\">Ecuaciones del Mercado de Bienes</u> </div>\n",
    "              <span> </span>\n",
    "                 \n",
    "              <img src=\"http://latex.codecogs.com/svg.latex? %s\" border=\"0\"  width=\"{al}\" height=\"{an}\" />\n",
    "              <img src=\"http://latex.codecogs.com/svg.latex? %s\" border=\"0\"    width=\"{al}\" height=\"{an}\" />\n",
    "              <img src=\"http://latex.codecogs.com/svg.latex? %s\" border=\"0\"    width=\"{al}\" height=\"{an}\" />\n",
    "              <br>\n",
    "              <div class=\"subtitulo1\"><u><font size=\"5\">Ecuaciones del Mercado de dinero</u> </div>\n",
    "             <span> </span>\n",
    "              <img src=\"http://latex.codecogs.com/svg.latex? %s\" border=\"0\"   width=\"{al}\" height=\"{an}\" />\n",
    "              <img src=\"http://latex.codecogs.com/svg.latex? %s\" border=\"0\"   width=\"{al}\" height=\"{an}\" />\n",
    "              \n",
    "              \n",
    "              </center>\"\"\"%(eq11,eq22,eq33, eq44,eq55))))"
   ]
  },
  {
   "cell_type": "code",
   "execution_count": 150,
   "metadata": {
    "hideCode": true,
    "hidePrompt": true,
    "slideshow": {
     "slide_type": "slide"
    }
   },
   "outputs": [
    {
     "data": {
      "text/html": [
       "\n",
       "              <center>\n",
       "                <br>\n",
       "              <div class=\"subtitulo1\"><font size=\"5\">Optenemos </div>\n",
       "             <span> </span>\n",
       "              <img src=\"http://latex.codecogs.com/svg.latex?  & M^{s} = Y \\gamma_{0} - \\gamma_{1} r\" border=\"0\"   width=\"200\" height=\"200\" />\n",
       "\n",
       "              </center>"
      ],
      "text/plain": [
       "<IPython.core.display.HTML object>"
      ]
     },
     "metadata": {},
     "output_type": "display_data"
    }
   ],
   "source": [
    "eq43=Eq(ms_up, yy_o*Y-yy_1*r)\n",
    "# eq6=eq4.subs(md_up, ms_up)\n",
    "eq66 = \" & {}\".format(latex(eq43), )\n",
    "\n",
    "display(HTML((f\"\"\"\n",
    "              <center>\n",
    "                <br>\n",
    "              <div class=\"subtitulo1\"><font size=\"5\">Optenemos </div>\n",
    "             <span> </span>\n",
    "              <img src=\"http://latex.codecogs.com/svg.latex? %s\" border=\"0\"   width=\"{al}\" height=\"{an}\" />\n",
    "\n",
    "              </center>\"\"\"%(eq66))))"
   ]
  },
  {
   "cell_type": "code",
   "execution_count": 166,
   "metadata": {
    "hideCode": true,
    "hidePrompt": true,
    "slideshow": {
     "slide_type": "skip"
    }
   },
   "outputs": [],
   "source": [
    "eq1=Eq(Y-C, I_b+G_b)\n",
    "eq2=Eq(C-beta_1*Y + beta_1*T, beta_0)\n",
    "eq3=Eq(T-alf_1*Y, alf_0)\n",
    "eq4=Eq(yy_o*Y-yy_1*r,ms_up)\n",
    "\n",
    "eq11 = \" & {}\".format(latex(eq1), )\n",
    "eq22 = \" & {}\".format(latex(eq2), )\n",
    "eq33 = \" & {}\".format(latex(eq3), )\n",
    "eq44 = \" & {}\".format(latex(eq4), )\n",
    "eq55 = \" & {}\".format(latex(eq5), )"
   ]
  },
  {
   "cell_type": "code",
   "execution_count": 156,
   "metadata": {
    "hideCode": true,
    "hidePrompt": true,
    "slideshow": {
     "slide_type": "slide"
    }
   },
   "outputs": [
    {
     "data": {
      "text/html": [
       "\n",
       "              <center>\n",
       "              \n",
       "              <div class=\"subtitulo1\"><font size=\"5\">Reordenados </div>\n",
       "              <span> </span>\n",
       "              <img src=\"http://latex.codecogs.com/svg.latex?  & - C + Y = \\overline{G} + \\overline{I}\" border=\"0\"  width=\"200\" height=\"200\" />\n",
       "              <img src=\"http://latex.codecogs.com/svg.latex?  & C + T \\beta_{1} - Y \\beta_{1} = \\beta_{0}\" border=\"0\"    width=\"200\" height=\"200\" />\n",
       "              <img src=\"http://latex.codecogs.com/svg.latex?  & T - Y \\alpha_{1} = \\alpha_{0}\" border=\"0\"    width=\"200\" height=\"200\" />\n",
       "              <img src=\"http://latex.codecogs.com/svg.latex?  & Y \\gamma_{0} - \\gamma_{1} r = M^{s}\" border=\"0\"   width=\"200\" height=\"200\" />\n",
       "              \n",
       "              </center>"
      ],
      "text/plain": [
       "<IPython.core.display.HTML object>"
      ]
     },
     "metadata": {},
     "output_type": "display_data"
    }
   ],
   "source": [
    "al=200\n",
    "an=200\n",
    "from IPython.core.display import display, HTML\n",
    "display(HTML((f\"\"\"\n",
    "              <center>\n",
    "              \n",
    "              <div class=\"subtitulo1\"><font size=\"5\">Reordenados </div>\n",
    "              <span> </span>\n",
    "              <img src=\"http://latex.codecogs.com/svg.latex? %s\" border=\"0\"  width=\"{al}\" height=\"{an}\" />\n",
    "              <img src=\"http://latex.codecogs.com/svg.latex? %s\" border=\"0\"    width=\"{al}\" height=\"{an}\" />\n",
    "              <img src=\"http://latex.codecogs.com/svg.latex? %s\" border=\"0\"    width=\"{al}\" height=\"{an}\" />\n",
    "              <img src=\"http://latex.codecogs.com/svg.latex? %s\" border=\"0\"   width=\"{al}\" height=\"{an}\" />\n",
    "              \n",
    "              </center>\"\"\"%(eq11,eq22,eq33, eq44))))"
   ]
  },
  {
   "cell_type": "code",
   "execution_count": 40,
   "metadata": {
    "hideCode": true,
    "hidePrompt": true,
    "slideshow": {
     "slide_type": "skip"
    }
   },
   "outputs": [],
   "source": [
    "import sympy as sy\n",
    "\n",
    "equ1=+Y-C-I_b-G_b\n",
    "equ2=C-beta_1*Y + beta_1*T-beta_0\n",
    "equ3=T-alf_1*Y-alf_0\n",
    "equ4=yy_o*Y-yy_1*r-ms_up\n",
    "\n",
    "xm = sy.Matrix([[Y],[C],[r],[T]])\n",
    "\n",
    "solm=sympy.linear_eq_to_matrix([equ1,equ2,equ3,equ4],[ Y,C,r,T])\n",
    "\n",
    "Am = \" & {}\".format(latex(solm[0]), )\n",
    "xmm = \" & {}\".format(latex(xm), )\n",
    "Am2 = \" & {}\".format(latex(solm[1]), )"
   ]
  },
  {
   "cell_type": "code",
   "execution_count": 157,
   "metadata": {
    "hideCode": true,
    "hidePrompt": true,
    "slideshow": {
     "slide_type": "slide"
    }
   },
   "outputs": [
    {
     "data": {
      "text/html": [
       "\n",
       "              <center>\n",
       "              <br>\n",
       "                <div class=\"subtitulo1\"><font size=\"5\">Matriz  Ax=b </div>\n",
       "              <span> </span>\n",
       "              <img src=\"http://latex.codecogs.com/svg.latex?  & \\left[\\begin{matrix}1 & -1 & 0 & 0\\\\- \\beta_{1} & 1 & 0 & \\beta_{1}\\\\- \\alpha_{1} & 0 & 0 & 1\\\\\\gamma_{0} & 0 & - \\gamma_{1} & 0\\end{matrix}\\right] \\cdot   & \\left[\\begin{matrix}Y\\\\C\\\\r\\\\T\\end{matrix}\\right] =  & \\left[\\begin{matrix}\\overline{G} + \\overline{I}\\\\\\beta_{0}\\\\\\alpha_{0}\\\\M^{s}\\end{matrix}\\right]\" border=\"0\"   width=\"400\" height=\"400\" />\n",
       "               <span> </span>\n",
       "                <div class=\"subtitulo1\"><font size=\"5\">  &emsp; &emsp; &emsp; A  &emsp;  &emsp; &emsp;\n",
       "       &nbsp;&nbsp;&nbsp; x    &emsp;&emsp; &emsp;     b </div>\n",
       "              <span> </span>\n",
       "             </center>"
      ],
      "text/plain": [
       "<IPython.core.display.HTML object>"
      ]
     },
     "metadata": {},
     "output_type": "display_data"
    }
   ],
   "source": [
    "al1=400\n",
    "an1=400\n",
    "display(HTML((f\"\"\"\n",
    "              <center>\n",
    "              <br>\n",
    "                <div class=\"subtitulo1\"><font size=\"5\">Matriz  Ax=b </div>\n",
    "              <span> </span>\n",
    "              <img src=\"http://latex.codecogs.com/svg.latex? %s \\cdot  %s = %s\" border=\"0\"   width=\"{al1}\" height=\"{an1}\" />\n",
    "               <span> </span>\n",
    "                <div class=\"subtitulo1\"><font size=\"5\">  &emsp; &emsp; &emsp; A  &emsp;  &emsp; &emsp;\n",
    "       &nbsp;&nbsp;&nbsp; x    &emsp;&emsp; &emsp;     b </div>\n",
    "              <span> </span>\n",
    "             </center>\"\"\"%(Am,xmm,Am2))))"
   ]
  },
  {
   "cell_type": "markdown",
   "metadata": {
    "hideCode": true,
    "hidePrompt": true
   },
   "source": [
    "## Literal a)"
   ]
  },
  {
   "cell_type": "code",
   "execution_count": 45,
   "metadata": {
    "hideCode": true,
    "hidePrompt": true,
    "slideshow": {
     "slide_type": "slide"
    }
   },
   "outputs": [
    {
     "data": {
      "text/html": [
       "\n",
       "              <center>\n",
       "                <br>\n",
       "                <div class=\"subtitulo1\"><font size=\"5\">Resolvemos los Puntos de Equilibrio mediante el Metdo de Cramer </div>\n",
       "             </center>"
      ],
      "text/plain": [
       "<IPython.core.display.HTML object>"
      ]
     },
     "metadata": {},
     "output_type": "display_data"
    }
   ],
   "source": [
    "\n",
    "display(HTML((f\"\"\"\n",
    "              <center>\n",
    "                <br>\n",
    "                <div class=\"subtitulo1\"><font size=\"5\">Resolvemos los Puntos de Equilibrio mediante el Metdo de Cramer </div>\n",
    "             </center>\"\"\"%())))"
   ]
  },
  {
   "cell_type": "code",
   "execution_count": 165,
   "metadata": {
    "hideCode": true,
    "hidePrompt": true
   },
   "outputs": [
    {
     "data": {
      "text/html": [
       "\n",
       "              <center>\n",
       "              \n",
       "<br>     \n",
       "<div class=\"subtitulo1\"><font size=\"5\">Determinante de A </div>\n",
       "<br>\n",
       "\n",
       "<img src=\"http://latex.codecogs.com/svg.latex?\\begin{align*}  Det   \\left[\\begin{matrix}1 & -1 & 0 & 0\\\\- \\beta_{1} & 1 & 0 & \\beta_{1}\\\\- \\alpha_{1} & 0 & 0 & 1\\\\\\gamma_{0} & 0 & - \\gamma_{1} & 0\\end{matrix}\\right] =   \\alpha_{1} \\beta_{1} \\gamma_{1} - \\beta_{1} \\gamma_{1} + \\gamma_{1}  \\end{align*}\" border=\"0\"   width=\"{al2}\" height=\"{an2}\" />\n",
       "    \n",
       "    <br>\n",
       "             </center>"
      ],
      "text/plain": [
       "<IPython.core.display.HTML object>"
      ]
     },
     "metadata": {},
     "output_type": "display_data"
    }
   ],
   "source": [
    "det1=solm[0].det()\n",
    "A1m1 = \"  {}\".format(latex(solm[0]), )\n",
    "det1p= \"  {}\".format(latex(det1))\n",
    "display(HTML((r\"\"\"\n",
    "              <center>\n",
    "              \n",
    "<br>     \n",
    "<div class=\"subtitulo1\"><font size=\"5\">Determinante de A </div>\n",
    "<br>\n",
    "\n",
    "<img src=\"http://latex.codecogs.com/svg.latex?\\begin{align*}  Det %s = %s  \\end{align*}\" border=\"0\"   width=\"{al2}\" height=\"{an2}\" />\n",
    "    \n",
    "    <br>\n",
    "             </center>\"\"\"%(A1m1,det1p))))"
   ]
  },
  {
   "cell_type": "code",
   "execution_count": 167,
   "metadata": {
    "hideCode": true,
    "hidePrompt": true,
    "slideshow": {
     "slide_type": "slide"
    }
   },
   "outputs": [
    {
     "data": {
      "text/html": [
       "\n",
       "              <center>\n",
       "    <br>\n",
       "              \n",
       "    <img src=\"http://latex.codecogs.com/svg.latex?\\begin{align*} \n",
       "     Det   \\left[\\begin{matrix}\\overline{G} + \\overline{I} & -1 & 0 & 0\\\\\\beta_{0} & 1 & 0 & \\beta_{1}\\\\\\alpha_{0} & 0 & 0 & 1\\\\M^{s} & 0 & - \\gamma_{1} & 0\\end{matrix}\\right] =  - \\alpha_{0} \\beta_{1} \\gamma_{1} + \\beta_{0} \\gamma_{1} + \\gamma_{1} \\overline{G} + \\gamma_{1} \\overline{I} \n",
       "    \\end{align*}\" border=\"0\"   width=\"{al2}\" height=\"{an2}\" />\n",
       "    \n",
       "    <br>\n",
       "        <img src=\"http://latex.codecogs.com/svg.latex?\\begin{align*} \n",
       "     \\boldsymbol{\\ Y^*= \\frac{- \\alpha_{0} \\beta_{1} + \\beta_{0} + \\overline{G} + \\overline{I}}{\\alpha_{1} \\beta_{1} - \\beta_{1} + 1}}\n",
       "    \\end{align*}\" border=\"0\"   width=\"{al2}\" height=\"{an2}\" />\n",
       "    \n",
       "    </center>"
      ],
      "text/plain": [
       "<IPython.core.display.HTML object>"
      ]
     },
     "metadata": {},
     "output_type": "display_data"
    },
    {
     "data": {
      "text/html": [
       "\n",
       "              <center>\n",
       "    <br>\n",
       "              \n",
       "    <img src=\"http://latex.codecogs.com/svg.latex?\\begin{align*} \n",
       "     Det   \\left[\\begin{matrix}1 & \\overline{G} + \\overline{I} & 0 & 0\\\\- \\beta_{1} & \\beta_{0} & 0 & \\beta_{1}\\\\- \\alpha_{1} & \\alpha_{0} & 0 & 1\\\\\\gamma_{0} & M^{s} & - \\gamma_{1} & 0\\end{matrix}\\right] =  - \\alpha_{0} \\beta_{1} \\gamma_{1} - \\alpha_{1} \\beta_{1} \\gamma_{1} \\overline{G} - \\alpha_{1} \\beta_{1} \\gamma_{1} \\overline{I} + \\beta_{0} \\gamma_{1} + \\beta_{1} \\gamma_{1} \\overline{G} + \\beta_{1} \\gamma_{1} \\overline{I} \n",
       "    \\end{align*}\" border=\"0\"   width=\"{al2}\" height=\"{an2}\" />\n",
       "    \n",
       "    <br>\n",
       "        <img src=\"http://latex.codecogs.com/svg.latex?\\begin{align*} \n",
       "     \\boldsymbol{\\ C^*= \\frac{- \\alpha_{0} \\beta_{1} - \\alpha_{1} \\beta_{1} \\overline{G} - \\alpha_{1} \\beta_{1} \\overline{I} + \\beta_{0} + \\beta_{1} \\overline{G} + \\beta_{1} \\overline{I}}{\\alpha_{1} \\beta_{1} - \\beta_{1} + 1}}\n",
       "    \\end{align*}\" border=\"0\"   width=\"{al2}\" height=\"{an2}\" />\n",
       "    \n",
       "    </center>"
      ],
      "text/plain": [
       "<IPython.core.display.HTML object>"
      ]
     },
     "metadata": {},
     "output_type": "display_data"
    },
    {
     "data": {
      "text/html": [
       "\n",
       "              <center>\n",
       "    <br>\n",
       "              \n",
       "    <img src=\"http://latex.codecogs.com/svg.latex?\\begin{align*} \n",
       "     Det   \\left[\\begin{matrix}1 & -1 & \\overline{G} + \\overline{I} & 0\\\\- \\beta_{1} & 1 & \\beta_{0} & \\beta_{1}\\\\- \\alpha_{1} & 0 & \\alpha_{0} & 1\\\\\\gamma_{0} & 0 & M^{s} & 0\\end{matrix}\\right] =  - M^{s} \\alpha_{1} \\beta_{1} + M^{s} \\beta_{1} - M^{s} - \\alpha_{0} \\beta_{1} \\gamma_{0} + \\beta_{0} \\gamma_{0} + \\gamma_{0} \\overline{G} + \\gamma_{0} \\overline{I} \n",
       "    \\end{align*}\" border=\"0\"   width=\"{al2}\" height=\"{an2}\" />\n",
       "    \n",
       "    <br>\n",
       "        <img src=\"http://latex.codecogs.com/svg.latex?\\begin{align*} \n",
       "     \\boldsymbol{\\ r^*= \\frac{- M^{s} \\alpha_{1} \\beta_{1} + M^{s} \\beta_{1} - M^{s} - \\alpha_{0} \\beta_{1} \\gamma_{0} + \\beta_{0} \\gamma_{0} + \\gamma_{0} \\overline{G} + \\gamma_{0} \\overline{I}}{\\gamma_{1} \\left(\\alpha_{1} \\beta_{1} - \\beta_{1} + 1\\right)}}\n",
       "    \\end{align*}\" border=\"0\"   width=\"{al2}\" height=\"{an2}\" />\n",
       "    \n",
       "    </center>"
      ],
      "text/plain": [
       "<IPython.core.display.HTML object>"
      ]
     },
     "metadata": {},
     "output_type": "display_data"
    },
    {
     "data": {
      "text/html": [
       "\n",
       "              <center>\n",
       "    <br>\n",
       "              \n",
       "    <img src=\"http://latex.codecogs.com/svg.latex?\\begin{align*} \n",
       "     Det   \\left[\\begin{matrix}1 & -1 & 0 & \\overline{G} + \\overline{I}\\\\- \\beta_{1} & 1 & 0 & \\beta_{0}\\\\- \\alpha_{1} & 0 & 0 & \\alpha_{0}\\\\\\gamma_{0} & 0 & - \\gamma_{1} & M^{s}\\end{matrix}\\right] =  - \\alpha_{0} \\beta_{1} \\gamma_{1} + \\alpha_{0} \\gamma_{1} + \\alpha_{1} \\beta_{0} \\gamma_{1} + \\alpha_{1} \\gamma_{1} \\overline{G} + \\alpha_{1} \\gamma_{1} \\overline{I} \n",
       "    \\end{align*}\" border=\"0\"   width=\"{al2}\" height=\"{an2}\" />\n",
       "    \n",
       "    <br>\n",
       "        <img src=\"http://latex.codecogs.com/svg.latex?\\begin{align*} \n",
       "     \\boldsymbol{\\ T^*= \\frac{- \\alpha_{0} \\beta_{1} + \\alpha_{0} + \\alpha_{1} \\beta_{0} + \\alpha_{1} \\overline{G} + \\alpha_{1} \\overline{I}}{\\alpha_{1} \\beta_{1} - \\beta_{1} + 1}}\n",
       "    \\end{align*}\" border=\"0\"   width=\"{al2}\" height=\"{an2}\" />\n",
       "    \n",
       "    </center>"
      ],
      "text/plain": [
       "<IPython.core.display.HTML object>"
      ]
     },
     "metadata": {},
     "output_type": "display_data"
    }
   ],
   "source": [
    "al2=700\n",
    "an2=500\n",
    "tags = ['Y','C','r','T']\n",
    "l1 = []\n",
    "for tag1, tag in zip(range(0,4), tags):\n",
    "    eq10= solm[0]\n",
    "    eq10[:,tag1]=solm[1]\n",
    "    det40=eq10.det()\n",
    "    Am50 = \"  {}\".format(latex(eq10), )\n",
    "    det440 = \" {}\".format(latex(det40), )\n",
    "\n",
    "    r10=det40/det1\n",
    "    r110= simplify(r10)\n",
    "    r10p= \"\\\\ {}^*= {}\".format(tag,latex(r110))\n",
    "    solm=sympy.linear_eq_to_matrix([equ1,equ2,equ3,equ4],[ Y,C,r,T])\n",
    "    l1.append(r110)\n",
    "#     tags = [Am3,Am4,Am5]\n",
    "#     for tag in tags:    \n",
    "    tag = html.escape(tag)\n",
    "    display(HTML((r\"\"\"\n",
    "              <center>\n",
    "    <br>\n",
    "              \n",
    "    <img src=\"http://latex.codecogs.com/svg.latex?\\begin{align*} \n",
    "     Det %s = %s \n",
    "    \\end{align*}\" border=\"0\"   width=\"{al2}\" height=\"{an2}\" />\n",
    "    \n",
    "    <br>\n",
    "        <img src=\"http://latex.codecogs.com/svg.latex?\\begin{align*} \n",
    "     \\boldsymbol{%s}\n",
    "    \\end{align*}\" border=\"0\"   width=\"{al2}\" height=\"{an2}\" />\n",
    "    \n",
    "    </center>\"\"\"%(Am50,det440 ,r10p))))"
   ]
  },
  {
   "cell_type": "code",
   "execution_count": 169,
   "metadata": {
    "hideCode": true,
    "hideOutput": true,
    "hidePrompt": true
   },
   "outputs": [
    {
     "data": {
      "image/png": "[encoded data removed]",
      "text/latex": [
       "$\\displaystyle \\left[ \\frac{- \\alpha_{0} \\beta_{1} + \\beta_{0} + \\overline{G} + \\overline{I}}{\\alpha_{1} \\beta_{1} - \\beta_{1} + 1}, \\  \\frac{- \\alpha_{0} \\beta_{1} - \\alpha_{1} \\beta_{1} \\overline{G} - \\alpha_{1} \\beta_{1} \\overline{I} + \\beta_{0} + \\beta_{1} \\overline{G} + \\beta_{1} \\overline{I}}{\\alpha_{1} \\beta_{1} - \\beta_{1} + 1}, \\  \\frac{- M^{s} \\alpha_{1} \\beta_{1} + M^{s} \\beta_{1} - M^{s} - \\alpha_{0} \\beta_{1} \\gamma_{0} + \\beta_{0} \\gamma_{0} + \\gamma_{0} \\overline{G} + \\gamma_{0} \\overline{I}}{\\gamma_{1} \\left(\\alpha_{1} \\beta_{1} - \\beta_{1} + 1\\right)}, \\  \\frac{- \\alpha_{0} \\beta_{1} + \\alpha_{0} + \\alpha_{1} \\beta_{0} + \\alpha_{1} \\overline{G} + \\alpha_{1} \\overline{I}}{\\alpha_{1} \\beta_{1} - \\beta_{1} + 1}\\right]$"
      ],
      "text/plain": [
       "⎡-\\alpha_{0}⋅\\beta_{1} + \\beta_{0} + \\overline{G} + \\overline{I}  -\\alpha_{0}⋅\n",
       "⎢───────────────────────────────────────────────────────────────, ────────────\n",
       "⎣              \\alpha_{1}⋅\\beta_{1} - \\beta_{1} + 1                           \n",
       "\n",
       "\\beta_{1} - \\alpha_{1}⋅\\beta_{1}⋅\\overline{G} - \\alpha_{1}⋅\\beta_{1}⋅\\overline\n",
       "──────────────────────────────────────────────────────────────────────────────\n",
       "                                                \\alpha_{1}⋅\\beta_{1} - \\beta_{\n",
       "\n",
       "{I} + \\beta_{0} + \\beta_{1}⋅\\overline{G} + \\beta_{1}⋅\\overline{I}  -M__{s}⋅\\al\n",
       "─────────────────────────────────────────────────────────────────, ───────────\n",
       "1} + 1                                                                        \n",
       "\n",
       "pha_{1}⋅\\beta_{1} + M__{s}⋅\\beta_{1} - M__{s} - \\alpha_{0}⋅\\beta_{1}⋅\\gamma_{0\n",
       "──────────────────────────────────────────────────────────────────────────────\n",
       "                                               \\gamma_{1}⋅(\\alpha_{1}⋅\\beta_{1\n",
       "\n",
       "} + \\beta_{0}⋅\\gamma_{0} + \\gamma_{0}⋅\\overline{G} + \\gamma_{0}⋅\\overline{I}  \n",
       "────────────────────────────────────────────────────────────────────────────, \n",
       "} - \\beta_{1} + 1)                                                            \n",
       "\n",
       "-\\alpha_{0}⋅\\beta_{1} + \\alpha_{0} + \\alpha_{1}⋅\\beta_{0} + \\alpha_{1}⋅\\overli\n",
       "──────────────────────────────────────────────────────────────────────────────\n",
       "                                     \\alpha_{1}⋅\\beta_{1} - \\beta_{1} + 1     \n",
       "\n",
       "ne{G} + \\alpha_{1}⋅\\overline{I}⎤\n",
       "───────────────────────────────⎥\n",
       "                               ⎦"
      ]
     },
     "execution_count": 169,
     "metadata": {},
     "output_type": "execute_result"
    }
   ],
   "source": [
    "#Los resultados de los puntos de equilibrio en una lista\n",
    "l1"
   ]
  },
  {
   "cell_type": "code",
   "execution_count": 242,
   "metadata": {
    "hideCode": true,
    "hideOutput": true,
    "hidePrompt": true
   },
   "outputs": [
    {
     "data": {
      "image/png": "[encoded data removed]",
      "text/latex": [
       "$\\displaystyle \\left[ \\frac{- \\alpha_{0} \\beta_{1} + \\beta_{0} + \\overline{G} + \\overline{I}}{\\alpha_{1} \\beta_{1} - \\beta_{1} + 1}, \\  \\frac{- M^{s} \\alpha_{1} \\beta_{1} + M^{s} \\beta_{1} - M^{s} - \\alpha_{0} \\beta_{1} \\gamma_{0} + \\beta_{0} \\gamma_{0} + \\gamma_{0} \\overline{G} + \\gamma_{0} \\overline{I}}{\\gamma_{1} \\left(\\alpha_{1} \\beta_{1} - \\beta_{1} + 1\\right)}\\right]$"
      ],
      "text/plain": [
       "⎡-\\alpha_{0}⋅\\beta_{1} + \\beta_{0} + \\overline{G} + \\overline{I}  -M__{s}⋅\\alp\n",
       "⎢───────────────────────────────────────────────────────────────, ────────────\n",
       "⎣              \\alpha_{1}⋅\\beta_{1} - \\beta_{1} + 1                           \n",
       "\n",
       "ha_{1}⋅\\beta_{1} + M__{s}⋅\\beta_{1} - M__{s} - \\alpha_{0}⋅\\beta_{1}⋅\\gamma_{0}\n",
       "──────────────────────────────────────────────────────────────────────────────\n",
       "                                              \\gamma_{1}⋅(\\alpha_{1}⋅\\beta_{1}\n",
       "\n",
       " + \\beta_{0}⋅\\gamma_{0} + \\gamma_{0}⋅\\overline{G} + \\gamma_{0}⋅\\overline{I}⎤\n",
       "───────────────────────────────────────────────────────────────────────────⎥\n",
       " - \\beta_{1} + 1)                                                          ⎦"
      ]
     },
     "execution_count": 242,
     "metadata": {},
     "output_type": "execute_result"
    }
   ],
   "source": [
    "#Tomar Elementos de Lista \n",
    "l11=tuple(l1)\n",
    "l1[0:3:2]"
   ]
  },
  {
   "cell_type": "markdown",
   "metadata": {},
   "source": [
    "## Literal b)"
   ]
  },
  {
   "cell_type": "markdown",
   "metadata": {
    "hideCode": true,
    "hidePrompt": true
   },
   "source": [
    "$$\\frac{\\partial Y}{\\partial M_s} \\quad \\frac{\\partial r}{\\partial M_s}$$"
   ]
  },
  {
   "cell_type": "code",
   "execution_count": 138,
   "metadata": {
    "hideCode": true,
    "hidePrompt": true
   },
   "outputs": [
    {
     "data": {
      "image/png": "[encoded data removed]",
      "text/latex": [
       "$\\displaystyle M^{s} = Y \\gamma_{0} - \\gamma_{1} r$"
      ],
      "text/plain": [
       "M__{s} = Y⋅\\gamma_{0} - \\gamma_{1}⋅r"
      ]
     },
     "metadata": {},
     "output_type": "display_data"
    },
    {
     "data": {
      "image/png": "[encoded data removed]",
      "text/latex": [
       "$\\displaystyle Y = \\frac{M^{s}}{\\gamma_{0}} + \\frac{\\gamma_{1} r}{\\gamma_{0}}$"
      ],
      "text/plain": [
       "      M__{s}     \\gamma_{1}⋅r\n",
       "Y = ────────── + ────────────\n",
       "    \\gamma_{0}    \\gamma_{0} "
      ]
     },
     "metadata": {},
     "output_type": "display_data"
    },
    {
     "data": {
      "image/png": "[encoded data removed]",
      "text/latex": [
       "$\\displaystyle \\frac{\\partial}{\\partial M^{s}} Y = \\frac{M^{s}}{\\gamma_{0}} + \\frac{\\gamma_{1} r}{\\gamma_{0}} = \\frac{1}{\\gamma_{0}}$"
      ],
      "text/plain": [
       "   ∂   ⎛      M__{s}     \\gamma_{1}⋅r⎞       1     \n",
       "───────⎜Y = ────────── + ────────────⎟ = ──────────\n",
       "∂M__{s}⎝    \\gamma_{0}    \\gamma_{0} ⎠   \\gamma_{0}"
      ]
     },
     "metadata": {},
     "output_type": "display_data"
    },
    {
     "data": {
      "image/png": "[encoded data removed]",
      "text/latex": [
       "$\\displaystyle M^{s} = Y \\gamma_{0} - \\gamma_{1} r$"
      ],
      "text/plain": [
       "M__{s} = Y⋅\\gamma_{0} - \\gamma_{1}⋅r"
      ]
     },
     "metadata": {},
     "output_type": "display_data"
    },
    {
     "data": {
      "image/png": "[encoded data removed]",
      "text/latex": [
       "$\\displaystyle r = - \\frac{M^{s}}{\\gamma_{1}} + \\frac{Y \\gamma_{0}}{\\gamma_{1}}$"
      ],
      "text/plain": [
       "        M__{s}     Y⋅\\gamma_{0}\n",
       "r = - ────────── + ────────────\n",
       "      \\gamma_{1}    \\gamma_{1} "
      ]
     },
     "metadata": {},
     "output_type": "display_data"
    },
    {
     "data": {
      "image/png": "[encoded data removed]",
      "text/latex": [
       "$\\displaystyle \\frac{\\partial}{\\partial M^{s}} r = - \\frac{M^{s}}{\\gamma_{1}} + \\frac{Y \\gamma_{0}}{\\gamma_{1}} = - \\frac{1}{\\gamma_{1}}$"
      ],
      "text/plain": [
       "   ∂   ⎛        M__{s}     Y⋅\\gamma_{0}⎞      -1     \n",
       "───────⎜r = - ────────── + ────────────⎟ = ──────────\n",
       "∂M__{s}⎝      \\gamma_{1}    \\gamma_{1} ⎠   \\gamma_{1}"
      ]
     },
     "metadata": {},
     "output_type": "display_data"
    }
   ],
   "source": [
    "vab=[Y,r]\n",
    "for esq in vab:\n",
    "    eq43=Eq(ms_up, yy_o*Y-yy_1*r)\n",
    "    eq43ef=solve(eq43, esq)\n",
    "    eq43exf=expand(eq43ef[0])\n",
    "    e2qf=Eq(esq,eq43exf)\n",
    "    gg1=sympy.diff(e2qf,ms_up)\n",
    "    e22qf=(-esq+eq43exf)\n",
    "    display(eq43,e2qf)\n",
    "    dif1f=sympy.diff(e22qf,ms_up)\n",
    "    eddif1=Eq(gg1,dif1f)\n",
    "    display(eddif1)\n",
    "    "
   ]
  },
  {
   "cell_type": "code",
   "execution_count": 273,
   "metadata": {
    "hideCode": true,
    "hidePrompt": true
   },
   "outputs": [
    {
     "data": {
      "image/png": "[encoded data removed]",
      "text/latex": [
       "$\\displaystyle Y^{*} = \\frac{- \\alpha_{0} \\beta_{1} + \\beta_{0} + \\overline{G} + \\overline{I}}{\\alpha_{1} \\beta_{1} - \\beta_{1} + 1}$"
      ],
      "text/plain": [
       "         -\\alpha_{0}⋅\\beta_{1} + \\beta_{0} + \\overline{G} + \\overline{I}\n",
       "Y__{*} = ───────────────────────────────────────────────────────────────\n",
       "                       \\alpha_{1}⋅\\beta_{1} - \\beta_{1} + 1             "
      ]
     },
     "metadata": {},
     "output_type": "display_data"
    },
    {
     "data": {
      "image/png": "[encoded data removed]",
      "text/latex": [
       "$\\displaystyle \\frac{\\partial(Y^{*})}{\\partial(M_s)} = 0$"
      ],
      "text/plain": [
       "\\frac{\\partial(Y_s)}__{*})}{\\partial(M = 0"
      ]
     },
     "metadata": {},
     "output_type": "display_data"
    },
    {
     "data": {
      "image/png": "[encoded data removed]",
      "text/latex": [
       "$\\displaystyle r^{*} = \\frac{- M^{s} \\alpha_{1} \\beta_{1} + M^{s} \\beta_{1} - M^{s} - \\alpha_{0} \\beta_{1} \\gamma_{0} + \\beta_{0} \\gamma_{0} + \\gamma_{0} \\overline{G} + \\gamma_{0} \\overline{I}}{\\gamma_{1} \\left(\\alpha_{1} \\beta_{1} - \\beta_{1} + 1\\right)}$"
      ],
      "text/plain": [
       "         -M__{s}⋅\\alpha_{1}⋅\\beta_{1} + M__{s}⋅\\beta_{1} - M__{s} - \\alpha_{0}\n",
       "r__{*} = ─────────────────────────────────────────────────────────────────────\n",
       "                                                                   \\gamma_{1}⋅\n",
       "\n",
       "⋅\\beta_{1}⋅\\gamma_{0} + \\beta_{0}⋅\\gamma_{0} + \\gamma_{0}⋅\\overline{G} + \\gamm\n",
       "──────────────────────────────────────────────────────────────────────────────\n",
       "(\\alpha_{1}⋅\\beta_{1} - \\beta_{1} + 1)                                        \n",
       "\n",
       "a_{0}⋅\\overline{I}\n",
       "──────────────────\n",
       "                  "
      ]
     },
     "metadata": {},
     "output_type": "display_data"
    },
    {
     "data": {
      "image/png": "[encoded data removed]",
      "text/latex": [
       "$\\displaystyle \\frac{\\partial}{\\partial M^{s}} r^{*} = \\frac{- M^{s} \\alpha_{1} \\beta_{1} + M^{s} \\beta_{1} - M^{s} - \\alpha_{0} \\beta_{1} \\gamma_{0} + \\beta_{0} \\gamma_{0} + \\gamma_{0} \\overline{G} + \\gamma_{0} \\overline{I}}{\\gamma_{1} \\left(\\alpha_{1} \\beta_{1} - \\beta_{1} + 1\\right)} = \\frac{- \\alpha_{1} \\beta_{1} + \\beta_{1} - 1}{\\gamma_{1} \\left(\\alpha_{1} \\beta_{1} - \\beta_{1} + 1\\right)}$"
      ],
      "text/plain": [
       "   ∂   ⎛         -M__{s}⋅\\alpha_{1}⋅\\beta_{1} + M__{s}⋅\\beta_{1} - M__{s} - \\a\n",
       "───────⎜r__{*} = ─────────────────────────────────────────────────────────────\n",
       "∂M__{s}⎝                                                                   \\ga\n",
       "\n",
       "lpha_{0}⋅\\beta_{1}⋅\\gamma_{0} + \\beta_{0}⋅\\gamma_{0} + \\gamma_{0}⋅\\overline{G}\n",
       "──────────────────────────────────────────────────────────────────────────────\n",
       "mma_{1}⋅(\\alpha_{1}⋅\\beta_{1} - \\beta_{1} + 1)                                \n",
       "\n",
       " + \\gamma_{0}⋅\\overline{I}⎞         -\\alpha_{1}⋅\\beta_{1} + \\beta_{1} - 1     \n",
       "──────────────────────────⎟ = ────────────────────────────────────────────────\n",
       "                          ⎠   \\gamma_{1}⋅(\\alpha_{1}⋅\\beta_{1} - \\beta_{1} + 1\n",
       "\n",
       " \n",
       "─\n",
       ")"
      ]
     },
     "metadata": {},
     "output_type": "display_data"
    }
   ],
   "source": [
    "Yp,rp=symbols(r'Y^{*} r^{*}')\n",
    "\n",
    "Ypp, rpp=symbols(r\" \\frac{\\partial(Y^{*})}{\\partial(M_s)}  \\frac{\\partial(r^{*})}{\\partial(M_s)}\")\n",
    "\n",
    "pp3=[Ypp,rpp]\n",
    "pp=[Yp,rp]\n",
    "\n",
    "pop=l1[0:3:2]\n",
    "for gt,gt1,gt2 in  zip(pp, pop,pp3):\n",
    "    \n",
    "    ese=Eq(gt, gt1)\n",
    "    esd=sympy.diff(ese,ms_up)\n",
    "    esd1=(-gt+gt1)\n",
    "    deddif=sympy.diff(esd1,ms_up)\n",
    "    edr=Eq(esd,deddif)\n",
    "    display(ese)\n",
    "    if esd != 0 :\n",
    "        display(edr)\n",
    "    else:\n",
    "        derq=Eq(gt2,0)\n",
    "        display(derq)\n",
    "        \n",
    "    \n"
   ]
  },
  {
   "cell_type": "code",
   "execution_count": 115,
   "metadata": {
    "hideCode": true,
    "hideOutput": true,
    "hidePrompt": true
   },
   "outputs": [
    {
     "data": {
      "image/png": "[encoded data removed]",
      "text/latex": [
       "$\\displaystyle \\frac{1}{\\gamma_{0}}$"
      ],
      "text/plain": [
       "    1     \n",
       "──────────\n",
       "\\gamma_{0}"
      ]
     },
     "execution_count": 115,
     "metadata": {},
     "output_type": "execute_result"
    }
   ],
   "source": [
    "#Diferernciales Parciales  de cualquiera \n",
    "sympy.idiff(e22q,Y,ms_up)"
   ]
  },
  {
   "cell_type": "code",
   "execution_count": 118,
   "metadata": {
    "hideCode": true,
    "hideOutput": false,
    "hidePrompt": true
   },
   "outputs": [],
   "source": [
    "#Tambien Funciona asi\n",
    "gg=sympy.Derivative(e22q,ms_up).doit()"
   ]
  },
  {
   "cell_type": "code",
   "execution_count": 47,
   "metadata": {
    "hideCode": true,
    "hidePrompt": true,
    "slideshow": {
     "slide_type": "skip"
    }
   },
   "outputs": [],
   "source": [
    "#De ecuaciones a matrices \n",
    "solm=sympy.linear_eq_to_matrix([equ1,equ2,equ3,equ4],[ Y,C,r,T])"
   ]
  },
  {
   "cell_type": "code",
   "execution_count": 48,
   "metadata": {
    "hideCode": true,
    "hidePrompt": true,
    "slideshow": {
     "slide_type": "skip"
    }
   },
   "outputs": [],
   "source": [
    "#Solucion Rapida\n",
    "sol = solve((eq1, eq2,eq3,eq4,eq5),(Y, C,r,T))"
   ]
  },
  {
   "cell_type": "code",
   "execution_count": 52,
   "metadata": {
    "hideCode": true,
    "hideOutput": true,
    "hidePrompt": true,
    "scrolled": true,
    "slideshow": {
     "slide_type": "slide"
    }
   },
   "outputs": [
    {
     "data": {
      "text/html": [
       "\n",
       "              <center>\n",
       "                <br>\n",
       "                <div class=\"subtitulo1\"><font size=\"5\">Puntos de Equilibrio </div>\n",
       "             </center>"
      ],
      "text/plain": [
       "<IPython.core.display.HTML object>"
      ]
     },
     "metadata": {},
     "output_type": "display_data"
    },
    {
     "data": {
      "image/png": "[encoded data removed]",
      "text/latex": [
       "$\\displaystyle \\left\\{ C : \\frac{- \\alpha_{0} \\beta_{1} + \\beta_{0} - \\beta_{1} \\left(\\alpha_{1} - 1\\right) \\left(\\overline{G} + \\overline{I}\\right)}{\\alpha_{1} \\beta_{1} - \\beta_{1} + 1}, \\  T : \\frac{- \\alpha_{0} \\left(\\beta_{1} - 1\\right) + \\alpha_{1} \\beta_{0} + \\alpha_{1} \\left(\\overline{G} + \\overline{I}\\right)}{\\alpha_{1} \\beta_{1} - \\beta_{1} + 1}, \\  Y : \\frac{- \\alpha_{0} \\beta_{1} + \\beta_{0} + \\overline{G} + \\overline{I}}{\\alpha_{1} \\beta_{1} - \\beta_{1} + 1}, \\  r : \\frac{- M^{s} \\left(\\alpha_{1} \\beta_{1} - \\beta_{1} + 1\\right) - \\alpha_{0} \\beta_{1} \\gamma_{0} + \\beta_{0} \\gamma_{0} + \\gamma_{0} \\left(\\overline{G} + \\overline{I}\\right)}{\\gamma_{1} \\left(\\alpha_{1} \\beta_{1} - \\beta_{1} + 1\\right)}\\right\\}$"
      ],
      "text/plain": [
       "⎧   -\\alpha_{0}⋅\\beta_{1} + \\beta_{0} - \\beta_{1}⋅(\\alpha_{1} - 1)⋅(\\overline{\n",
       "⎨C: ──────────────────────────────────────────────────────────────────────────\n",
       "⎩                               \\alpha_{1}⋅\\beta_{1} - \\beta_{1} + 1          \n",
       "\n",
       "G} + \\overline{I})     -\\alpha_{0}⋅(\\beta_{1} - 1) + \\alpha_{1}⋅\\beta_{0} + \\a\n",
       "──────────────────, T: ───────────────────────────────────────────────────────\n",
       "                                                    \\alpha_{1}⋅\\beta_{1} - \\be\n",
       "\n",
       "lpha_{1}⋅(\\overline{G} + \\overline{I})     -\\alpha_{0}⋅\\beta_{1} + \\beta_{0} +\n",
       "──────────────────────────────────────, Y: ───────────────────────────────────\n",
       "ta_{1} + 1                                               \\alpha_{1}⋅\\beta_{1} \n",
       "\n",
       " \\overline{G} + \\overline{I}     -M__{s}⋅(\\alpha_{1}⋅\\beta_{1} - \\beta_{1} + 1\n",
       "────────────────────────────, r: ─────────────────────────────────────────────\n",
       "- \\beta_{1} + 1                                                               \n",
       "\n",
       ") - \\alpha_{0}⋅\\beta_{1}⋅\\gamma_{0} + \\beta_{0}⋅\\gamma_{0} + \\gamma_{0}⋅(\\over\n",
       "──────────────────────────────────────────────────────────────────────────────\n",
       "   \\gamma_{1}⋅(\\alpha_{1}⋅\\beta_{1} - \\beta_{1} + 1)                          \n",
       "\n",
       "line{G} + \\overline{I})⎫\n",
       "───────────────────────⎬\n",
       "                       ⎭"
      ]
     },
     "execution_count": 52,
     "metadata": {},
     "output_type": "execute_result"
    }
   ],
   "source": [
    "init_printing()\n",
    "display(HTML((f\"\"\"\n",
    "              <center>\n",
    "                <br>\n",
    "                <div class=\"subtitulo1\"><font size=\"5\">Puntos de Equilibrio </div>\n",
    "             </center>\"\"\"%())))\n",
    "sol"
   ]
  },
  {
   "cell_type": "markdown",
   "metadata": {
    "heading_collapsed": true
   },
   "source": [
    "# Bibliografia"
   ]
  },
  {
   "cell_type": "markdown",
   "metadata": {
    "hidden": true,
    "hideCode": false,
    "hideOutput": true,
    "hidePrompt": true,
    "slideshow": {
     "slide_type": "skip"
    }
   },
   "source": [
    "https://ask.sagemath.org/question/10395/replace-rows-an-columns-by-zeros-in-a-numpy-array/\n",
    "\n",
    "\n",
    "http://www.acme.byu.edu/wp-content/uploads/2017/08/Sympy.pdf\n",
    "\n",
    "https://artofproblemsolving.com/wiki/index.php/Cramer%27s_Rule\n",
    "\n",
    "https://pythonforundergradengineers.com/sympy-expressions-and-equations.html\n",
    "\n",
    "https://stackoverflow.com/questions/55751109/printing-f-strings-in-color-in-jupyter-with-escape-characters-in-the-mix\n",
    "\n",
    "\n",
    "https://stackoverflow.com/questions/55751109/printing-f-strings-in-color-in-jupyter-with-escape-characters-in-the-mix\n",
    "\n",
    "https://stackoverflow.com/questions/48422762/is-it-possible-to-show-print-output-as-latex-in-jupyter-notebook"
   ]
  }
 ],
 "metadata": {
  "celltoolbar": "Hide code",
  "kernelspec": {
   "display_name": "Python 3",
   "language": "python",
   "name": "python3"
  },
  "language_info": {
   "codemirror_mode": {
    "name": "ipython",
    "version": 3
   },
   "file_extension": ".py",
   "mimetype": "text/x-python",
   "name": "python",
   "nbconvert_exporter": "python",
   "pygments_lexer": "ipython3",
   "version": "3.7.4"
  },
  "latex_envs": {
   "LaTeX_envs_menu_present": true,
   "autoclose": false,
   "autocomplete": true,
   "bibliofile": "biblio.bib",
   "cite_by": "apalike",
   "current_citInitial": 1,
   "eqLabelWithNumbers": true,
   "eqNumInitial": 1,
   "hotkeys": {
    "equation": "Ctrl-E",
    "itemize": "Ctrl-I"
   },
   "labels_anchors": false,
   "latex_user_defs": false,
   "report_style_numbering": false,
   "user_envs_cfg": false
  },
  "toc": {
   "base_numbering": 1,
   "nav_menu": {},
   "number_sections": true,
   "sideBar": true,
   "skip_h1_title": false,
   "title_cell": "Table of Contents",
   "title_sidebar": "Contents",
   "toc_cell": false,
   "toc_position": {
    "height": "calc(100% - 180px)",
    "left": "10px",
    "top": "150px",
    "width": "320px"
   },
   "toc_section_display": true,
   "toc_window_display": false
  }
 },
 "nbformat": 4,
 "nbformat_minor": 2
}
